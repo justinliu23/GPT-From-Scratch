{
  "nbformat": 4,
  "nbformat_minor": 0,
  "metadata": {
    "colab": {
      "provenance": []
    },
    "kernelspec": {
      "name": "python3",
      "display_name": "Python 3"
    },
    "language_info": {
      "name": "python"
    }
  },
  "cells": [
    {
      "cell_type": "markdown",
      "source": [
        "> GPT from Scratch: Transformers and LLMs Project for MIT 6.390 (Fall 2024)\n",
        "\n",
        "\n",
        "The code in this notebook uses material written by Andrej Karpathy\n",
        "See https://github.com/karpathy/ng-video-lecture\n",
        "and https://github.com/karpathy/minGPT\n"
      ],
      "metadata": {
        "id": "Yoy_3RvwIMrL"
      }
    },
    {
      "cell_type": "markdown",
      "source": [
        "Modern large language models (LLMs) are built using transformers, a particular neural network architecture that can be trained in parallel on large amounts of input data, such as a corpus of all known writings of humankind. In this notebook I explore the basic components of a Generative Pre-trained Transformer (GPT), a well-known LLM that is a stack of transformer blocks, each of which is composed from a number of self-attention transformer heads. Given its profound abilities, the architecture is relatively straightforward and the code constructed is essentially equivalent to GPT-1 and GPT-2."
      ],
      "metadata": {
        "id": "mMTZHrZpGNxu"
      }
    },
    {
      "cell_type": "code",
      "source": [
        "# imports\n",
        "\n",
        "import torch\n",
        "import torch.nn as nn\n",
        "import traceback\n",
        "import matplotlib.pyplot as plt\n",
        "from torch.nn import functional as F\n",
        "from torch.utils.data import Dataset\n",
        "from torch.utils.data.dataloader import DataLoader"
      ],
      "metadata": {
        "id": "MUCw1_ycsGvW"
      },
      "execution_count": null,
      "outputs": []
    },
    {
      "cell_type": "markdown",
      "source": [
        "A typical large language model (LLM) is autoregressive: it generates new tokens based on previous ones, and newly generated tokens are employed to generate following ones.\n",
        "\n",
        "With the \"vanilla\" self-attention mechanism, any input token can affect any output token; i.e., tokens that occur later in a sequence are able to impact the earlier tokens:\n",
        "\n",
        "![image.png](data:image/png;base64,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)\n",
        "\n",
        "A sequence $ \\{x^{(i)}\\}_{j=1}^n $ of $ n $ tokens, each token $ x^{(i)} \\in \\mathbb{R}^{d \\times 1} $, are the input to the head.\n",
        "\n",
        "We learn three weight matrices: $ W_q, W_k, W_v $, all of which are in $ \\mathbb{R}^{d \\times d_k} $.\n",
        "\n",
        "The matrix $ W_q $ transforms a token $ x^{(i)} $ into a question: which other tokens does $ x^{(i)} $ need to pay attention to? This question is represented as the query vector $ q_i = W_q^\\top x^{(i)} $.\n",
        "\n",
        "The matrix $ W_k $ transforms a token $ x^{(j)} $ into an answer to that question: if the query $ q_i $ is similar to the key $ k_j = W_k^\\top x^{(j)} $, then $ q_i^\\top k_j $ will be large, which means that $ x^{(i)} $ should pay attention to $ x^{(j)} $.\n",
        "\n",
        "Thus, we compute the attention matrix as:\n",
        "\n",
        "$$\n",
        "A = \\text{softmax}\\left(\\frac{Q K^\\top}{\\sqrt{d_k}}\\right) =\n",
        "\\begin{bmatrix}\n",
        "\\text{softmax}\\left(\\frac{q_1^\\top k_1}{\\sqrt{d_k}}, \\frac{q_1^\\top k_2}{\\sqrt{d_k}}, \\dots, \\frac{q_1^\\top k_n}{\\sqrt{d_k}}\\right) \\\\\n",
        "\\text{softmax}\\left(\\frac{q_2^\\top k_1}{\\sqrt{d_k}}, \\frac{q_2^\\top k_2}{\\sqrt{d_k}}, \\dots, \\frac{q_2^\\top k_n}{\\sqrt{d_k}}\\right) \\\\\n",
        "\\vdots \\\\\n",
        "\\text{softmax}\\left(\\frac{q_n^\\top k_1}{\\sqrt{d_k}}, \\frac{q_n^\\top k_2}{\\sqrt{d_k}}, \\dots, \\frac{q_n^\\top k_n}{\\sqrt{d_k}}\\right)\n",
        "\\end{bmatrix}\n",
        "$$\n",
        "\n",
        "Now, we know which tokens are most relevant to other tokens! But how can we use that? The matrix $ W_v $ transforms every token $ x^{(j)} $ into a value $ v^{(j)} $, which we can put all together to get a matrix $ V $. The attention matrix is then multiplied by this matrix of values to get an output. In particular, the $ i $-th output is given by:\n",
        "\n",
        "$$\n",
        "\\text{out}^{(i)} = \\sum_{j=1}^n A_{i,j} v^{(j)}.\n",
        "$$\n",
        "\n",
        "\n"
      ],
      "metadata": {
        "id": "Vk9HpJiBGcEW"
      }
    },
    {
      "cell_type": "markdown",
      "source": [
        "To achieve the autoregressive nature of an LLM, we use **masking**. Suppose we train a transformer to predict the next word in the sequence: \"quantum computers will work someday.\" Each word $x^{(i)}$ in the input corresponds to a token, and the target output $y^{(i)}$ is the same sequence, shifted one position left, ending with an EOS token:\n",
        "\n",
        "$x^{(1)}$: quantum, $x^{(2)}$: computers, $x^{(3)}$: will, $x^{(4)}$: work, $x^{(5)}$: someday  \n",
        "$y^{(1)}$: computers, $y^{(2)}$: will, $y^{(3)}$: work, $y^{(4)}$: someday, $y^{(5)}$: EOS\n",
        "\n",
        "Autoregression ensures the model generates $y^{(t)}$ based only on $x^{(1)}, x^{(2)}, \\dots, x^{(t)}$, not future tokens. We enforce this by **masking** the attention matrix to ignore \"future\" tokens. The desired lower triangular attention matrix looks like:\n",
        "\n",
        "$\n",
        "\\begin{bmatrix}\n",
        "1 & 0 & 0 & 0 & 0 \\\\\n",
        "0.5 & 0.5 & 0 & 0 & 0 \\\\\n",
        "0.3 & 0.3 & 0.4 & 0 & 0 \\\\\n",
        "0.4 & 0.1 & 0.2 & 0.3 & 0 \\\\\n",
        "0.1 & 0.2 & 0.1 & 0.3 & 0.3\n",
        "\\end{bmatrix}\n",
        "$\n",
        "\n",
        "This ensures that each output word is influenced only by itself and preceding input words. Masking is applied during training to maintain sequential order and prevent \"look-ahead\" behavior."
      ],
      "metadata": {
        "id": "IiRCY93fIguk"
      }
    },
    {
      "cell_type": "markdown",
      "source": [
        "# Masked fill\n",
        "\n",
        "Filling certain elements of a matrix can be done efficiently. In pytorch, the masked_fill procedure allows us to set desired elements of a tensor to a specified value."
      ],
      "metadata": {
        "id": "OHmxe-uO_omu"
      }
    },
    {
      "cell_type": "code",
      "source": [
        "a = torch.tensor([[1,2,3],[4,5,6],[7,8,9]], dtype=float)\n",
        "mask = torch.tril(torch.ones(3,3))\n",
        "a.masked_fill(mask==0, -float(\"inf\"))"
      ],
      "metadata": {
        "id": "En1t_hQN_ujm",
        "colab": {
          "base_uri": "https://localhost:8080/"
        },
        "outputId": "8e202d20-6c18-486f-8c4a-b17e16b57211"
      },
      "execution_count": null,
      "outputs": [
        {
          "output_type": "execute_result",
          "data": {
            "text/plain": [
              "tensor([[1., -inf, -inf],\n",
              "        [4., 5., -inf],\n",
              "        [7., 8., 9.]], dtype=torch.float64)"
            ]
          },
          "metadata": {},
          "execution_count": 3
        }
      ]
    },
    {
      "cell_type": "markdown",
      "source": [
        "# Self-attention implemented in pytorch\n",
        "\n",
        "Masked self-attention can therefore be implemented in pytorch as such:"
      ],
      "metadata": {
        "id": "JHWLjLKI4_E7"
      }
    },
    {
      "cell_type": "code",
      "source": [
        "# This is a simplified demonstration of self-attention in pytorch\n",
        "class masked_self_attention:\n",
        "    def __init__(self, n=3, d=4):\n",
        "        self.n = n\n",
        "        self.d = d\n",
        "\n",
        "    def self_attention(self, x, d_k=5):\n",
        "        '''\n",
        "        single self-attention head\n",
        "        x has shape (n, d)\n",
        "        d_k is the dim of qvk embedding\n",
        "        '''\n",
        "        d = self.d\n",
        "        n = self.n\n",
        "        Wk = torch.nn.Linear(d, d_k, bias=False)    # input_size, output_size\n",
        "        Wq = torch.nn.Linear(d, d_k, bias=False)\n",
        "        Wv = torch.nn.Linear(d, d_k, bias=False)\n",
        "        k = Wk(x)\n",
        "        q = Wq(x)\n",
        "        M = torch.tril(torch.ones(n, n))            # lower triangle mask\n",
        "        alpha = q @ k.transpose(-2,-1) * d_k**-0.5\n",
        "        alpha = alpha.masked_fill(M == 0, float('-inf'))\n",
        "        alpha = torch.softmax(alpha, dim=-1)\n",
        "        plt.matshow(alpha.detach())                 # plot attention weight matrix\n",
        "        plt.colorbar()\n",
        "        v = Wv(x)\n",
        "        out = alpha @ v\n",
        "        return out\n"
      ],
      "metadata": {
        "id": "OyQIoXGi3zrr"
      },
      "execution_count": null,
      "outputs": []
    },
    {
      "cell_type": "code",
      "source": [
        "import torch\n",
        "import matplotlib.pyplot as plt\n",
        "\n",
        "# Initialize masked_self_attention with n=3 (sequence length) and d=4 (feature dimension)\n",
        "msa = masked_self_attention(n=3, d=4)\n",
        "\n",
        "# Define x as a tensor of shape (n, d)\n",
        "# This is an example tensor with arbitrary values\n",
        "x = torch.tensor([[1.0, 0.5, 0.2, 0.1],\n",
        "                  [0.0, 0.3, 0.8, 0.4],\n",
        "                  [0.5, 0.2, 0.1, 0.7]], dtype=torch.float32)\n",
        "\n",
        "# Run self-attention with d_k=5\n",
        "g = msa.self_attention(x, d_k=5)\n",
        "\n",
        "# Print the output shape\n",
        "print(\"output has shape \", g.shape)\n"
      ],
      "metadata": {
        "colab": {
          "base_uri": "https://localhost:8080/",
          "height": 439
        },
        "id": "HdrjW5WC_eMZ",
        "outputId": "b038ba3c-72f6-42fd-c893-742d4b9e9f00"
      },
      "execution_count": null,
      "outputs": [
        {
          "output_type": "stream",
          "name": "stdout",
          "text": [
            "output has shape  torch.Size([3, 5])\n"
          ]
        },
        {
          "output_type": "display_data",
          "data": {
            "text/plain": [
              "<Figure size 480x480 with 2 Axes>"
            ],
            "image/png": "[encoded data removed]"
          },
          "metadata": {}
        }
      ]
    },
    {
      "cell_type": "markdown",
      "source": [
        "## Hyperparameters"
      ],
      "metadata": {
        "id": "u-HLBpw3FHLT"
      }
    },
    {
      "cell_type": "code",
      "source": [
        "#-----------------------------------------------------------------------------\n",
        "# hyperparameters\n",
        "\n",
        "batch_size = 16\n",
        "block_size = 32\n",
        "max_iters = 3000\n",
        "eval_interval = 300\n",
        "learning_rate = 3e-4\n",
        "device = 'cuda' if torch.cuda.is_available() else 'cpu'\n",
        "eval_iters = 1\n",
        "if 0:\n",
        "    # large model\n",
        "    d = 64\n",
        "    n_head = 4\n",
        "    n_layer = 4\n",
        "else:\n",
        "    # small model\n",
        "    d = 24\n",
        "    n_head = 3\n",
        "    n_layer = 2\n",
        "\n",
        "torch.manual_seed(1337)         # set random number generator seed for easier debugging"
      ],
      "metadata": {
        "colab": {
          "base_uri": "https://localhost:8080/"
        },
        "id": "QOwNaV6VrzyJ",
        "outputId": "2f2eaa2b-494e-45a9-b7c9-3876938ea952"
      },
      "execution_count": null,
      "outputs": [
        {
          "output_type": "execute_result",
          "data": {
            "text/plain": [
              "<torch._C.Generator at 0x783673708c10>"
            ]
          },
          "metadata": {},
          "execution_count": 5
        }
      ]
    },
    {
      "cell_type": "markdown",
      "source": [
        "## Transformer Block\n",
        "\n",
        "A transformer block is shown below. There are typically $H$ self-attention heads (shown as the red boxes in the diagram below). Importantly, each head $h$ has its own specific attention matrix and processes the input sequence in parallel.\n",
        "\n",
        "The transformer block adds three additional new constructs to the network: (1) layer normalization blocks, (2) residual connections, and (3) a feed-forward block:\n",
        "\n",
        "![image.png](data:image/png;base64,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)\n"
      ],
      "metadata": {
        "id": "fC9tgTM7FLDT"
      }
    },
    {
      "cell_type": "markdown",
      "source": [
        "### LayerNorm\n",
        "\n",
        "LayerNorm transforms an input $z$ into  \n",
        "$ \\text{LayerNorm}(z; \\gamma, \\beta) = \\gamma \\frac{z - \\mu}{\\sigma} + \\beta $  \n",
        "with learned parameters $\\gamma$ and $\\beta$.\n",
        "\n",
        "The purpose of LayerNorm is to standardize its input so that the next layer's inputs are within a normal range, improving stability during training. In transformers, LayerNorm is used twice: at the input to the block and before the feed-forward layers. In PyTorch, we implemented this via `torch.nn.LayerNorm`.\n",
        "\n",
        "If `torch.nn.LayerNorm(5)` is used, the total number of learned parameters is $2 \\times 5 = 10$, corresponding to the dimensions of $\\gamma$ and $\\beta$.\n",
        "\n",
        "---\n",
        "\n",
        "### Residual connections\n",
        "\n",
        "Residual connections are employed twice in the transformer block:  \n",
        "1. Around the multi-headed attention module.  \n",
        "2. Around the feed-forward layers.\n",
        "\n",
        "The purpose of residual connections is to enable gradients to backpropagate more effectively through multiple stages of the network. They prevent vanishing gradients by ensuring a direct pathway for gradient flow, even if activation functions like ReLU return zeros.\n",
        "\n",
        "---\n",
        "\n",
        "### Feed-forward\n",
        "\n",
        "The feed-forward stage in a transformer block is a non-linear activation (typically ReLU) sandwiched between two linear layers.\n",
        "\n",
        "The linear layers map data from $d$ dimensions to a larger dimension, e.g., $4d$, and back to $d$.\n",
        "\n",
        "---\n",
        "\n",
        "### Transformer block\n",
        "Putting the above pieces together, the transformer block can then be implemented in pytorch."
      ],
      "metadata": {
        "id": "0kQRnpcSKiUv"
      }
    },
    {
      "cell_type": "markdown",
      "source": [
        "## GPT Architecture\n",
        "\n",
        "GPT has $L$ sequentially stacked transformer blocks. On the input's end, we notice a positional encoding (to be described later). A normalization and softmax is used to output a next-character probability distribution.\n",
        "\n",
        "### Positional encoding\n",
        "\n",
        "The order of words in a sentence is crucial for meaning. For example, \"The cat chased the mouse.\" and \"The mouse chased the cat.\" convey entirely different meanings.\n",
        "\n",
        "Since transformers process all input tokens in parallel, we can enable them to capture positional meaning by adding positional information to the input tokens.\n",
        "\n",
        "The simplest approach embeds the input token $x^{(i)}$ as the vector $(W_x)^\\top x^{(i)}$, and does the same for the position index $i$, turning it into the vector $(W_p)^\\top e_i$, where $e_i$ is a one-hot vector with a $1$ in dimension $i$. The new input $x^{(i)}$ with positional encoding becomes:\n",
        "\n",
        "$x^{(i)} = (W_x)^\\top x^{(i)} + (W_p)^\\top e_i$\n",
        "\n",
        "Here, $W_x$ and $W_p$ are weight matrices learned through backpropagation. While this approach suffices for many cases, positional encoding is often implemented more sophisticatedly in practice.\n"
      ],
      "metadata": {
        "id": "g4l4iX2tLkWS"
      }
    },
    {
      "cell_type": "code",
      "source": [
        "#-----------------------------------------------------------------------------\n",
        "# The GPT model, in five pieces:\n",
        "#\n",
        "# 1. Single self-attention head\n",
        "# 2. Multi-headed attention\n",
        "# 3. Feed-forward = simple linear layer with ReLU nonlinearity\n",
        "# 4. Transformer block = Multi-headed attention + Feed-forward + layer norms\n",
        "# 5. Full GPT model = embedding + L transformer blocks + final layer norm\n",
        "\n",
        "class Head(nn.Module):\n",
        "    \"\"\" one head of self-attention \"\"\"\n",
        "\n",
        "    def __init__(self, d_k):\n",
        "        super().__init__()\n",
        "        self.Wk = nn.Linear(d, d_k, bias=False)\n",
        "        self.Wq = nn.Linear(d, d_k, bias=False)\n",
        "        self.Wv = nn.Linear(d, d_k, bias=False)\n",
        "        self.register_buffer('tril', torch.tril(torch.ones(block_size, block_size)))\n",
        "\n",
        "    def forward(self, x):\n",
        "        # input of size (batch, n/time-step, d or input embedding/channel)\n",
        "        # output of size (batch, time-step, qvk embedding)\n",
        "        B,T,C = x.shape\n",
        "        k = self.Wk(x)   # (B,T,hs)\n",
        "        q = self.Wq(x)   # (B,T,hs)\n",
        "        # compute attention weights\n",
        "        alpha = q @ k.transpose(-2,-1) * k.shape[-1]**-0.5 # (B, T, hs) @ (B, hs, T) -> (B, T, T)\n",
        "        alpha = alpha.masked_fill(self.tril[:T, :T] == 0, float('-inf')) # (B, T, T)\n",
        "        alpha = F.softmax(alpha, dim=-1) # (B, T, T)\n",
        "        # perform the weighted aggregation of the values\n",
        "        v = self.Wv(x) # (B,T,hs)\n",
        "        out = alpha @ v # (B, T, T) @ (B, T, hs) -> (B, T, hs)\n",
        "        return out\n",
        "\n",
        "class MultiHeadAttention(nn.Module):\n",
        "    \"\"\" multiple heads of self-attention in parallel \"\"\"\n",
        "\n",
        "    def __init__(self, num_heads, d_k):\n",
        "        super().__init__()\n",
        "        self.heads = nn.ModuleList([Head(d_k) for _ in range(num_heads)])\n",
        "\n",
        "    def forward(self, x):\n",
        "        out = torch.cat([h(x) for h in self.heads], dim=-1)\n",
        "        return out\n",
        "\n",
        "class FeedFoward(nn.Module):\n",
        "    \"\"\" a simple linear layer followed by a non-linearity \"\"\"\n",
        "\n",
        "    def __init__(self, d):\n",
        "        super().__init__()\n",
        "        self.net = nn.Sequential(\n",
        "            nn.Linear(d, 4 * d),\n",
        "            nn.ReLU(),\n",
        "            nn.Linear(4 * d, d),\n",
        "        )\n",
        "\n",
        "    def forward(self, x):\n",
        "        return self.net(x)\n",
        "\n",
        "class Block(nn.Module):\n",
        "    \"\"\" Transformer block: communication followed by computation \"\"\"\n",
        "\n",
        "    def __init__(self, d, n_head):\n",
        "        # d: input embedding dimension, n_head: the number of heads we'd like\n",
        "        super().__init__()\n",
        "        # the line below means d_k * H = d, this is just done out of convenience\n",
        "        d_k = d // n_head\n",
        "        self.sa = MultiHeadAttention(n_head, d_k)\n",
        "        self.ffwd = FeedFoward(d)\n",
        "        self.ln1 = nn.LayerNorm(d)\n",
        "        self.ln2 = nn.LayerNorm(d)\n",
        "\n",
        "    def forward(self, x):\n",
        "        x = x + self.sa(self.ln1(x))\n",
        "        x = x + self.ffwd(self.ln2(x))\n",
        "        return x\n",
        "\n",
        "class GPTLanguageModel(nn.Module):\n",
        "\n",
        "    def __init__(self):\n",
        "        super().__init__()\n",
        "        # each token directly reads off the logits for the next token from a lookup table\n",
        "        self.token_embedding_table = nn.Embedding(vocab_size, d)\n",
        "        self.position_embedding_table = nn.Embedding(block_size, d)\n",
        "        self.blocks = nn.Sequential(*[Block(d, n_head=n_head) for _ in range(n_layer)])\n",
        "        self.ln_f = nn.LayerNorm(d) # final layer norm\n",
        "        self.lm_head = nn.Linear(d, vocab_size)\n",
        "        self.apply(self._init_weights)\n",
        "\n",
        "    def _init_weights(self, module):\n",
        "        if isinstance(module, nn.Linear):\n",
        "            torch.nn.init.normal_(module.weight, mean=0.0, std=0.02)\n",
        "            if module.bias is not None:\n",
        "                torch.nn.init.zeros_(module.bias)\n",
        "        elif isinstance(module, nn.Embedding):\n",
        "            torch.nn.init.normal_(module.weight, mean=0.0, std=0.02)\n",
        "\n",
        "    def forward(self, idx, targets=None):\n",
        "        B, T = idx.shape\n",
        "\n",
        "        # idx and targets are both (B,T) tensor of integers\n",
        "        tok_emb = self.token_embedding_table(idx) # (B,T,C)\n",
        "        pos_emb = self.position_embedding_table(torch.arange(T, device=device)) # (T,C)\n",
        "        x = tok_emb + pos_emb # (B,T,C)\n",
        "        x = self.blocks(x) # (B,T,C)\n",
        "        x = self.ln_f(x) # (B,T,C)\n",
        "        logits = self.lm_head(x) # (B,T,vocab_size)\n",
        "\n",
        "        if targets is None:\n",
        "            loss = None\n",
        "        else:\n",
        "            B, T, C = logits.shape\n",
        "            logits = logits.view(B*T, C)\n",
        "            targets = targets.view(B*T)\n",
        "            loss = F.cross_entropy(logits, targets, ignore_index=-1) \t# \"ignore_index=-1\" causes y = -1 labeled data to be ignored\n",
        "\n",
        "        return logits, loss\n",
        "\n",
        "    def generate(self, idx, max_new_tokens, do_sample=False):\n",
        "        # idx is (B, T) array of indices in the current context\n",
        "        for _ in range(max_new_tokens):\n",
        "            # crop idx to the last block_size tokens\n",
        "            idx_cond = idx[:, -block_size:]\n",
        "            # get the predictions\n",
        "            logits, loss = self(idx_cond)\n",
        "            # focus only on the last time step\n",
        "            logits = logits[:, -1, :] # becomes (B, C)\n",
        "            # apply softmax to get probabilities\n",
        "            probs = F.softmax(logits, dim=-1) # (B, C)\n",
        "            # either sample from the distribution or take the most likely element\n",
        "            if do_sample:\n",
        "                # sample from the distribution\n",
        "                idx_next = torch.multinomial(probs, num_samples=1) # (B, 1)\n",
        "            else:\n",
        "                _, idx_next = torch.topk(probs, k=1, dim=-1)\n",
        "            # append sampled index to the running sequence\n",
        "            idx = torch.cat((idx, idx_next), dim=1) # (B, T+1)\n",
        "        return idx\n"
      ],
      "metadata": {
        "id": "xSUjG8jPr2y_"
      },
      "execution_count": null,
      "outputs": []
    },
    {
      "cell_type": "markdown",
      "source": [
        "## Training dataset and loss estimation"
      ],
      "metadata": {
        "id": "5mM3auAYFOBv"
      }
    },
    {
      "cell_type": "code",
      "source": [
        "#-----------------------------------------------------------------------------\n",
        "# Training dataset setup\n",
        "# data encoder, decoder, dataset generator for addition problem\n",
        "\n",
        "ndigit = 3\n",
        "vocab_size = 10         # vocab is the digits 0-9\n",
        "\n",
        "def num2input(num, the_ndigit=ndigit):\n",
        "    '''\n",
        "    Encode number as ndigit integers\n",
        "    '''\n",
        "    nmax = 10**the_ndigit\n",
        "    if num >= nmax:\n",
        "        raise Exception(f\"oops, number {num} must be less than {nmax}\")\n",
        "    render = f\"%0{the_ndigit}d\" % num\n",
        "    dix = [int(s) for s in render] # convert each character to its token index\n",
        "    return dix\n",
        "\n",
        "def output2num(outlist):\n",
        "    '''\n",
        "    Decode output list to produce predicted sum\n",
        "    '''\n",
        "    assert len(outlist)==3*ndigit + 1\n",
        "    sumdigits = outlist[-(ndigit+1):][::-1]     # take last ndigit+1 digits, and reverse order\n",
        "    sumstr = ''.join([str(x) for x in sumdigits])\n",
        "    sumnum = int(sumstr)\n",
        "    return sumnum\n",
        "\n",
        "class AdditionDataset(Dataset):\n",
        "    \"\"\"\n",
        "    Creates n-digit addition problems. For example, if n=2, then an example\n",
        "    addition problem would be to add 85 + 50 = 135. This problem would be\n",
        "    represented as the following string for the GPT:\n",
        "\n",
        "    \"8550531\"\n",
        "\n",
        "    This is because:\n",
        "    - we are discarding the + and =, which are not necessary. We just encode the digits\n",
        "      of the input numbers concatenated together.\n",
        "    - the result 135 is encoded backwards to make the addition easier to learn for the\n",
        "      GPT model, because of how the addition algorithm works.\n",
        "\n",
        "    As one more example, the problem 6 + 39 = 45 would be encoded as:\n",
        "\n",
        "    \"0639054\"\n",
        "\n",
        "    where you will notice that we are padding with zeros to make sure that we always\n",
        "    produce strings of the exact same size: n + n + (n + 1). When n=2, this is 7.\n",
        "    At test time, we will feed in an addition problem by giving the first 2n digits,\n",
        "    and hoping that the GPT model completes the sequence with the next (n+1) digits\n",
        "    correctly.\n",
        "    \"\"\"\n",
        "\n",
        "    @staticmethod\n",
        "    def get_default_config():\n",
        "        C = CN()\n",
        "        # C.ndigit = 2\n",
        "        C.ndigit = 3\n",
        "        return C\n",
        "\n",
        "    def __init__(self, split):\n",
        "        self.split = split # train/test\n",
        "\n",
        "        # split up all addition problems into either training data or test data\n",
        "        assert ndigit <= 3, \"the lines below would be very memory inefficient, in future maybe refactor to support\"\n",
        "        num = (10**ndigit)**2 # total number of possible addition problems with ndigit numbers\n",
        "        if split==\"train\":\n",
        "            print(\"number of possible addition problems: %.2fM\" % (num/1e6,))\n",
        "        rng = torch.Generator()\n",
        "        rng.manual_seed(1337)\n",
        "        perm = torch.randperm(num, generator=rng)\n",
        "        num_test = min(int(num*0.2), 500) # 20% of the whole dataset, or only up to 500\n",
        "        self.ixes = perm[:num_test] if split == 'test' else perm[num_test:]\n",
        "\n",
        "    def get_vocab_size(self):\n",
        "        return 10 # digits 0..9\n",
        "\n",
        "    def get_block_size(self):\n",
        "        # a,b,a+b, and +1 due to potential carry overflow,\n",
        "        # but then also -1 because very last digit doesn't ever plug back\n",
        "        # as there is no explicit <EOS> token to predict, it is implied\n",
        "        return 3*ndigit + 1 - 1\n",
        "\n",
        "    def __len__(self):\n",
        "        return self.ixes.nelement()\n",
        "\n",
        "    def __getitem__(self, idx):\n",
        "        # given a problem index idx, first recover the associated a + b\n",
        "        idx = self.ixes[idx].item()\n",
        "        nd = 10**ndigit\n",
        "        a = idx // nd\n",
        "        b = idx %  nd\n",
        "        # calculate the \"label\" of the addition problem a + b\n",
        "        c = a + b\n",
        "        # encode the digits of a, b, c into strings\n",
        "        astr = f'%0{ndigit}d' % a\n",
        "        bstr = f'%0{ndigit}d' % b\n",
        "        cstr = (f'%0{ndigit+1}d' % c)[::-1] # reverse c to make addition easier\n",
        "        render = astr + bstr + cstr\n",
        "        dix = [int(s) for s in render] # convert each character to its token index\n",
        "        # x will be input to GPT and y will be the associated expected outputs\n",
        "        x = torch.tensor(dix[:-1], dtype=torch.long)\n",
        "        y = torch.tensor(dix[1:], dtype=torch.long) # predict the next token in the sequence\n",
        "        y[:ndigit*2-1] = -1 # we will only train in the output locations. -1 will mask loss to zero\n",
        "        return x, y\n"
      ],
      "metadata": {
        "id": "rV9cPZDrr7n0"
      },
      "execution_count": null,
      "outputs": []
    },
    {
      "cell_type": "code",
      "source": [
        "#-----------------------------------------------------------------------------\n",
        "# setup datasets and provide procedure to estimate loss\n",
        "\n",
        "train_dataset = AdditionDataset(split='train')\n",
        "test_dataset  = AdditionDataset(split='test')\n",
        "\n",
        "loader = {}\n",
        "data_iter = {}\n",
        "for split in ['train', 'test']:\n",
        "    dataset = {'train':train_dataset, 'test':test_dataset}[split]\n",
        "    loader[split] = DataLoader(dataset, batch_size=100, num_workers=0, drop_last=False)\n",
        "    data_iter[split] = iter(loader[split])\n",
        "\n",
        "# data loading\n",
        "def get_batch(split):\n",
        "    # generate a small batch of data of inputs x and targets y\n",
        "    try:\n",
        "        batch = next(data_iter[split])\n",
        "    except StopIteration:\n",
        "        data_iter[split] = iter(loader[split])\n",
        "        batch = next(data_iter[split])\n",
        "    batch = [t.to(device) for t in batch]\n",
        "    x, y = batch\n",
        "    return x, y\n",
        "\n",
        "@torch.no_grad()\n",
        "def estimate_loss():\n",
        "    '''\n",
        "    Compute estimate of loss function and current performance of GPT.\n",
        "    This is run periodically during training.\n",
        "    '''\n",
        "    out = {}\n",
        "    model.eval()\n",
        "    for split in ['train', 'test']:\n",
        "        losses = torch.zeros(eval_iters)\n",
        "        factors = torch.tensor([[10**i for i in range(ndigit+1)][::-1]]).to(device)\n",
        "        results = []\n",
        "        mistakes_printed_already = 0\n",
        "        for k in range(eval_iters):\n",
        "            X, Y = get_batch(split)\n",
        "            logits, loss = model(X, Y)\n",
        "            losses[k] = loss.item()\n",
        "\n",
        "            if split=='train':\n",
        "                continue\n",
        "            X = X.to(device)\n",
        "            d1d2 = X[:, :ndigit*2]\n",
        "            d1d2d3 = model.generate(d1d2, ndigit+1, do_sample=False) # using greedy argmax, not sampling\n",
        "            # isolate the last digit of the sampled sequence\n",
        "            d3 = d1d2d3[:, -(ndigit+1):]\n",
        "            d3 = d3.flip(1) # reverse the digits to their \"normal\" order\n",
        "            # decode the integers from individual digits\n",
        "            d1i = (d1d2[:,:ndigit] * factors[:,1:]).sum(1)\n",
        "            d2i = (d1d2[:,ndigit:ndigit*2] * factors[:,1:]).sum(1)\n",
        "            d3i_pred = (d3 * factors).sum(1)\n",
        "            d3i_gt = d1i + d2i # manually calculate the ground truth\n",
        "            # evaluate the correctness of the results in this batch\n",
        "            correct = (d3i_pred == d3i_gt).cpu()\n",
        "            for i in range(X.size(0)):\n",
        "                results.append(int(correct[i]))\n",
        "                if not correct[i] and mistakes_printed_already < 5: # only print up to 5 mistakes to get a sense\n",
        "                    mistakes_printed_already += 1\n",
        "                    print(\"    GPT claims that %d + %d = %d but should be %d\" % (d1i[i], d2i[i], d3i_pred[i], d3i_gt[i]))\n",
        "        if split=='test':\n",
        "            rt = torch.tensor(results, dtype=torch.float)\n",
        "            print(\"    %s final score: %d/%d = %.2f%% correct\" % (split, rt.sum(), len(results), 100*rt.mean()))\n",
        "\n",
        "        out[split] = losses.mean()\n",
        "\n",
        "    # revert model to training mode\n",
        "    model.train()\n",
        "    return out"
      ],
      "metadata": {
        "colab": {
          "base_uri": "https://localhost:8080/"
        },
        "id": "GREKU2Wsr-Cr",
        "outputId": "67a03309-c69f-406f-e03a-48cb29f6d293"
      },
      "execution_count": null,
      "outputs": [
        {
          "output_type": "stream",
          "name": "stdout",
          "text": [
            "number of possible addition problems: 1.00M\n"
          ]
        }
      ]
    },
    {
      "cell_type": "markdown",
      "source": [
        "## adderGPT performance\n",
        "\n",
        "I now attempt to train a GPT model to learn addition from scratch (without explicit/traditional addition rules). The input consists of two three-digit decimal numbers, and the output is their four-digit sum. The model’s performance is explored as a function of transformer block layers $L$ and the number of heads $H$, with $d = 24$.\n",
        "\n",
        "### Key Details:\n",
        "- **Number of three-digit addition problems:** $10^3 \\times 10^3 = 10^6$ (1 million problems).\n",
        "- **Parameter counts:** With $L = 1$ and $H = 1$, the model has fewer parameters due to its simpler architecture. For $L = 2$ and $H = 3$, the parameter count increases with more layers and heads.\n",
        "\n",
        "### Experimental Setup:\n",
        "Addition problems like $385 + 51 = 436$ are represented as: 3850516340\n",
        "\n",
        "\n",
        "#### Representation Details:\n",
        "- The `+` and `=` are discarded; only digits are concatenated.\n",
        "- The result ($436$) is encoded **in reverse order** (e.g., `634`) for easier learning, inspired by ripple-carry addition.\n",
        "- **Vocabulary size:** 10 (digits 0–9).  \n",
        "- **Input and output lengths:** Fixed, with zero-padding for smaller numbers and sums with fewer than four digits.\n",
        "\n",
        "#### Input and Target Encoding:\n",
        "For a problem $a + b = c$ (e.g., $a = a_2a_1a_0$), the training input $x$ and target $y$ are:\n",
        "\n",
        "$x = a_2, a_1, a_0, b_2, b_1, b_0, c_0, c_1, c_2$  \n",
        "$y = -1, -1, -1, -1, -1, -1, c_0, c_1, c_2$\n",
        "\n",
        "Here, $y^{(t)} = -1$ masks irrelevant positions to focus on predicting $c$ correctly.\n",
        "\n",
        "During testing, adderGPT then tokenizes the input and generates the sum one digit at a time in sequence."
      ],
      "metadata": {
        "id": "VB0_ggRIEUfI"
      }
    },
    {
      "cell_type": "code",
      "source": [
        "#-----------------------------------------------------------------------------\n",
        "# train model\n",
        "\n",
        "n_head = 3\n",
        "n_layer = 2\n",
        "\n",
        "print(f\"Training GPT with L={n_layer} and H={n_head}\")\n",
        "\n",
        "model = GPTLanguageModel()\n",
        "m = model.to(device)\n",
        "# print the number of parameters in the model\n",
        "print(sum(p.numel() for p in m.parameters())/1e6, 'M parameters')\n",
        "\n",
        "# create a PyTorch optimizer\n",
        "optimizer = torch.optim.AdamW(model.parameters(), lr=learning_rate)\n",
        "\n",
        "for itern in range(max_iters):\n",
        "\n",
        "    # every once in a while evaluate the loss on train and val sets\n",
        "    if (itern > 0) and (itern % eval_interval == 0 or itern == max_iters - 1):\n",
        "        losses = estimate_loss()\n",
        "        print(f\"step {itern}: train loss {losses['train']:.4f}, test loss {losses['test']:.4f}\")\n",
        "\n",
        "    # sample a batch of data\n",
        "    xb, yb = get_batch('train')\n",
        "\n",
        "    # evaluate the loss\n",
        "    logits, loss = model(xb, yb)\n",
        "    optimizer.zero_grad(set_to_none=True)\n",
        "    loss.backward()\n",
        "    optimizer.step()"
      ],
      "metadata": {
        "id": "jhhGeyGQsBc5",
        "colab": {
          "base_uri": "https://localhost:8080/"
        },
        "outputId": "afc51199-14e8-4252-9e4f-57e22e573f8f"
      },
      "execution_count": null,
      "outputs": [
        {
          "output_type": "stream",
          "name": "stdout",
          "text": [
            "Training GPT with L=2 and H=3\n",
            "0.01441 M parameters\n",
            "    GPT claims that 387 + 415 = 1111 but should be 802\n",
            "    GPT claims that 459 + 365 = 1111 but should be 824\n",
            "    GPT claims that 543 + 856 = 1131 but should be 1399\n",
            "    GPT claims that 59 + 742 = 1111 but should be 801\n",
            "    GPT claims that 549 + 75 = 1111 but should be 624\n",
            "    test final score: 1/100 = 1.00% correct\n",
            "step 300: train loss 1.8054, test loss 1.7996\n",
            "    GPT claims that 813 + 804 = 1707 but should be 1617\n",
            "    GPT claims that 985 + 799 = 1794 but should be 1784\n",
            "    GPT claims that 216 + 847 = 1123 but should be 1063\n",
            "    GPT claims that 577 + 473 = 1000 but should be 1050\n",
            "    GPT claims that 842 + 735 = 1517 but should be 1577\n",
            "    test final score: 7/100 = 7.00% correct\n",
            "step 600: train loss 1.1725, test loss 1.2174\n",
            "    test final score: 100/100 = 100.00% correct\n",
            "step 900: train loss 0.2494, test loss 0.2610\n",
            "    test final score: 100/100 = 100.00% correct\n",
            "step 1200: train loss 0.0486, test loss 0.0479\n",
            "    test final score: 100/100 = 100.00% correct\n",
            "step 1500: train loss 0.0184, test loss 0.0185\n",
            "    test final score: 100/100 = 100.00% correct\n",
            "step 1800: train loss 0.0102, test loss 0.0104\n",
            "    test final score: 100/100 = 100.00% correct\n",
            "step 2100: train loss 0.0066, test loss 0.0067\n",
            "    test final score: 100/100 = 100.00% correct\n",
            "step 2400: train loss 0.0046, test loss 0.0047\n",
            "    test final score: 100/100 = 100.00% correct\n",
            "step 2700: train loss 0.0035, test loss 0.0035\n",
            "    test final score: 100/100 = 100.00% correct\n",
            "step 2999: train loss 0.0026, test loss 0.0026\n"
          ]
        }
      ]
    },
    {
      "cell_type": "code",
      "source": [
        "#-----------------------------------------------------------------------------\n",
        "# generate output from the model\n",
        "# interactively accept input from user and print results from GPT\n",
        "# Provide empty input to terminate\n",
        "\n",
        "while True:\n",
        "    args = input(\"Enter a, b: \").strip()\n",
        "    if len(args)==0 or \"quit\" in args:\n",
        "        break\n",
        "    try:\n",
        "        a, b = [int(x.strip()) for x in args.split(\",\")]\n",
        "        abin = num2input(a) + num2input(b)\n",
        "        context = torch.tensor([ abin ], dtype=torch.long, device=device)\n",
        "        print(f\"    abin={abin}, context={context}\")\n",
        "        ret = m.generate(context, max_new_tokens=(ndigit+1))[0].tolist()\n",
        "        print(f\"    GPT raw return = {ret}\")\n",
        "        sumnum = output2num(ret)\n",
        "        if sumnum == a+b:\n",
        "            comment = \"Correct!\"\n",
        "        else:\n",
        "            comment = \"Wrong!\"\n",
        "        print(f\"GPT says {a} + {b} = {sumnum}  --> {comment}\")\n",
        "\n",
        "    except Exception as err:\n",
        "        print(traceback.format_exc())\n",
        "        print(err)"
      ],
      "metadata": {
        "id": "h3US21zssDhY",
        "colab": {
          "base_uri": "https://localhost:8080/",
          "height": 365
        },
        "outputId": "55114af1-ce00-47f7-e8d2-e30f45aa78a2",
        "collapsed": true
      },
      "execution_count": null,
      "outputs": [
        {
          "output_type": "error",
          "ename": "KeyboardInterrupt",
          "evalue": "Interrupted by user",
          "traceback": [
            "\u001b[0;31m---------------------------------------------------------------------------\u001b[0m",
            "\u001b[0;31mKeyboardInterrupt\u001b[0m                         Traceback (most recent call last)",
            "\u001b[0;32m<ipython-input-19-f101366f96c7>\u001b[0m in \u001b[0;36m<cell line: 6>\u001b[0;34m()\u001b[0m\n\u001b[1;32m      5\u001b[0m \u001b[0;34m\u001b[0m\u001b[0m\n\u001b[1;32m      6\u001b[0m \u001b[0;32mwhile\u001b[0m \u001b[0;32mTrue\u001b[0m\u001b[0;34m:\u001b[0m\u001b[0;34m\u001b[0m\u001b[0;34m\u001b[0m\u001b[0m\n\u001b[0;32m----> 7\u001b[0;31m     \u001b[0margs\u001b[0m \u001b[0;34m=\u001b[0m \u001b[0minput\u001b[0m\u001b[0;34m(\u001b[0m\u001b[0;34m\"Enter a, b: \"\u001b[0m\u001b[0;34m)\u001b[0m\u001b[0;34m.\u001b[0m\u001b[0mstrip\u001b[0m\u001b[0;34m(\u001b[0m\u001b[0;34m)\u001b[0m\u001b[0;34m\u001b[0m\u001b[0;34m\u001b[0m\u001b[0m\n\u001b[0m\u001b[1;32m      8\u001b[0m     \u001b[0;32mif\u001b[0m \u001b[0mlen\u001b[0m\u001b[0;34m(\u001b[0m\u001b[0margs\u001b[0m\u001b[0;34m)\u001b[0m\u001b[0;34m==\u001b[0m\u001b[0;36m0\u001b[0m \u001b[0;32mor\u001b[0m \u001b[0;34m\"quit\"\u001b[0m \u001b[0;32min\u001b[0m \u001b[0margs\u001b[0m\u001b[0;34m:\u001b[0m\u001b[0;34m\u001b[0m\u001b[0;34m\u001b[0m\u001b[0m\n\u001b[1;32m      9\u001b[0m         \u001b[0;32mbreak\u001b[0m\u001b[0;34m\u001b[0m\u001b[0;34m\u001b[0m\u001b[0m\n",
            "\u001b[0;32m/usr/local/lib/python3.10/dist-packages/ipykernel/kernelbase.py\u001b[0m in \u001b[0;36mraw_input\u001b[0;34m(self, prompt)\u001b[0m\n\u001b[1;32m    849\u001b[0m                 \u001b[0;34m\"raw_input was called, but this frontend does not support input requests.\"\u001b[0m\u001b[0;34m\u001b[0m\u001b[0;34m\u001b[0m\u001b[0m\n\u001b[1;32m    850\u001b[0m             )\n\u001b[0;32m--> 851\u001b[0;31m         return self._input_request(str(prompt),\n\u001b[0m\u001b[1;32m    852\u001b[0m             \u001b[0mself\u001b[0m\u001b[0;34m.\u001b[0m\u001b[0m_parent_ident\u001b[0m\u001b[0;34m,\u001b[0m\u001b[0;34m\u001b[0m\u001b[0;34m\u001b[0m\u001b[0m\n\u001b[1;32m    853\u001b[0m             \u001b[0mself\u001b[0m\u001b[0;34m.\u001b[0m\u001b[0m_parent_header\u001b[0m\u001b[0;34m,\u001b[0m\u001b[0;34m\u001b[0m\u001b[0;34m\u001b[0m\u001b[0m\n",
            "\u001b[0;32m/usr/local/lib/python3.10/dist-packages/ipykernel/kernelbase.py\u001b[0m in \u001b[0;36m_input_request\u001b[0;34m(self, prompt, ident, parent, password)\u001b[0m\n\u001b[1;32m    893\u001b[0m             \u001b[0;32mexcept\u001b[0m \u001b[0mKeyboardInterrupt\u001b[0m\u001b[0;34m:\u001b[0m\u001b[0;34m\u001b[0m\u001b[0;34m\u001b[0m\u001b[0m\n\u001b[1;32m    894\u001b[0m                 \u001b[0;31m# re-raise KeyboardInterrupt, to truncate traceback\u001b[0m\u001b[0;34m\u001b[0m\u001b[0;34m\u001b[0m\u001b[0m\n\u001b[0;32m--> 895\u001b[0;31m                 \u001b[0;32mraise\u001b[0m \u001b[0mKeyboardInterrupt\u001b[0m\u001b[0;34m(\u001b[0m\u001b[0;34m\"Interrupted by user\"\u001b[0m\u001b[0;34m)\u001b[0m \u001b[0;32mfrom\u001b[0m \u001b[0;32mNone\u001b[0m\u001b[0;34m\u001b[0m\u001b[0;34m\u001b[0m\u001b[0m\n\u001b[0m\u001b[1;32m    896\u001b[0m             \u001b[0;32mexcept\u001b[0m \u001b[0mException\u001b[0m \u001b[0;32mas\u001b[0m \u001b[0me\u001b[0m\u001b[0;34m:\u001b[0m\u001b[0;34m\u001b[0m\u001b[0;34m\u001b[0m\u001b[0m\n\u001b[1;32m    897\u001b[0m                 \u001b[0mself\u001b[0m\u001b[0;34m.\u001b[0m\u001b[0mlog\u001b[0m\u001b[0;34m.\u001b[0m\u001b[0mwarning\u001b[0m\u001b[0;34m(\u001b[0m\u001b[0;34m\"Invalid Message:\"\u001b[0m\u001b[0;34m,\u001b[0m \u001b[0mexc_info\u001b[0m\u001b[0;34m=\u001b[0m\u001b[0;32mTrue\u001b[0m\u001b[0;34m)\u001b[0m\u001b[0;34m\u001b[0m\u001b[0;34m\u001b[0m\u001b[0m\n",
            "\u001b[0;31mKeyboardInterrupt\u001b[0m: Interrupted by user"
          ]
        }
      ]
    },
    {
      "cell_type": "markdown",
      "source": [
        "## Visualizing digit attention\n",
        "\n",
        "Each transformer block has $H$ transformer heads, and each head $h$ learns its own set of weights $(W_q, W_k, W_v)$ for a given input. This means the attention matrices produced by each attention head are independent of one another.\n",
        "\n",
        "It is insightful to examine the values of the attention matrix to determine which input tokens $j$ are being paid attention to for generating the output token $i$."
      ],
      "metadata": {
        "id": "CT9DUsYQEp6-"
      }
    },
    {
      "cell_type": "code",
      "source": [
        "# call model once to see how a single digit addition is done\n",
        "# Ideally, GPT should output a + b\n",
        "\n",
        "a, b = 3, 5    # modify this to explore different values for these single-digit inputs\n",
        "\n",
        "context = torch.tensor([ num2input(a) + num2input(b)], dtype=torch.long)\n",
        "logits, loss = m(context)\n",
        "logits = logits[:, -1, :] # becomes (B, C)\n",
        "probs = F.softmax(logits, dim=-1) # (B, C)\n",
        "idx_next = torch.multinomial(probs, num_samples=1) # (B, 1)\n",
        "print(idx_next)   # this should be the least-significant digit of a + b"
      ],
      "metadata": {
        "id": "Xj1SBhBMs6gT",
        "colab": {
          "base_uri": "https://localhost:8080/"
        },
        "outputId": "69317daf-e122-499c-96ca-3fcfbf3d3b2f"
      },
      "execution_count": null,
      "outputs": [
        {
          "output_type": "stream",
          "name": "stdout",
          "text": [
            "tensor([[8]])\n"
          ]
        }
      ]
    },
    {
      "cell_type": "code",
      "source": [
        "# print this out as successive outputs are generated\n",
        "ablock = m.blocks[0]            # this selects the transformer block\n",
        "ahead = ablock.sa.heads[1]      # this selects the head within the block\n",
        "a, b = 923, 57\n",
        "iseq = num2input(a) + num2input(b)\n",
        "res = num2input(a+b, ndigit+1)[::-1]\n",
        "print(f\"iseq={iseq}, res={res}\")\n",
        "amat = []\n",
        "maxlen = 3*ndigit+1\n",
        "for _ in range(4):\n",
        "    print(iseq)\n",
        "    context = torch.tensor([ iseq ], dtype=torch.long)\n",
        "    B, T = context.shape\n",
        "    tok_emb = m.token_embedding_table(context) # (B,T,C)\n",
        "    pos_emb = m.position_embedding_table(torch.arange(T, device=device)) # (T,C)\n",
        "    x = ablock.ln1(tok_emb + pos_emb)\n",
        "    # print(\"x=\", x)\n",
        "    # ahead(x)\n",
        "    q = ahead.Wq(x)\n",
        "    k = ahead.Wk(x)\n",
        "    alpha = q @ k.transpose(-2,-1) * k.shape[-1]**-0.5 # (B, T, hs) @ (B, hs, T) -> (B, T, T)\n",
        "    alpha = alpha.masked_fill(ahead.tril[:T, :T] == 0, float('-inf')) # (B, T, T)\n",
        "    alpha = F.softmax(alpha, dim=-1) # (B, T, T)\n",
        "    alpha_last = alpha[-1,-1,:].tolist()\n",
        "    print(\"alpha=\", alpha_last)\n",
        "    amat.append(alpha_last + [0]*(maxlen - len(alpha_last)))\n",
        "    iseq.append(res[0])\n",
        "    res = res[1:]\n",
        "# make a nice plot\n",
        "plt.matshow(torch.tensor(amat))\n",
        "plt.colorbar()\n",
        "plt.show()"
      ],
      "metadata": {
        "id": "3OBKLfk6KYzw",
        "colab": {
          "base_uri": "https://localhost:8080/",
          "height": 593
        },
        "outputId": "7d1ee53b-3971-4128-8e12-e167f0efa4ac"
      },
      "execution_count": null,
      "outputs": [
        {
          "output_type": "stream",
          "name": "stdout",
          "text": [
            "iseq=[9, 2, 3, 0, 5, 7], res=[0, 8, 9, 0]\n",
            "[9, 2, 3, 0, 5, 7]\n",
            "alpha= [0.00013736862456426024, 0.0016717250691726804, 0.5122371912002563, 0.00018418066611047834, 0.0020840689539909363, 0.48368555307388306]\n",
            "[9, 2, 3, 0, 5, 7, 0]\n",
            "alpha= [0.003952596336603165, 0.4926985204219818, 0.009097832255065441, 0.002890070667490363, 0.465581476688385, 0.009197333827614784, 0.016582226380705833]\n",
            "[9, 2, 3, 0, 5, 7, 0, 8]\n",
            "alpha= [0.5006138682365417, 0.009346785955131054, 0.000563320005312562, 0.4701473116874695, 0.0077629294246435165, 0.0005701396730728447, 0.0032295899000018835, 0.0077660284005105495]\n",
            "[9, 2, 3, 0, 5, 7, 0, 8, 9]\n",
            "alpha= [0.47487565875053406, 0.039723146706819534, 0.000261949171544984, 0.36057788133621216, 0.03295101970434189, 0.000276383594609797, 0.0026795007288455963, 0.01651892624795437, 0.0721355676651001]\n"
          ]
        },
        {
          "output_type": "display_data",
          "data": {
            "text/plain": [
              "<Figure size 1200x480 with 2 Axes>"
            ],
            "image/png": "[encoded data removed]"
          },
          "metadata": {}
        }
      ]
    }
  ]
}